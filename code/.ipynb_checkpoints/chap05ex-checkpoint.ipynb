{
 "metadata": {
  "name": "",
  "signature": "sha256:1fb53dcabfdcfde506dd82959a56a273301bb62866a7ca0b3723ef219cb81600"
 },
 "nbformat": 3,
 "nbformat_minor": 0,
 "worksheets": [
  {
   "cells": [
    {
     "cell_type": "markdown",
     "metadata": {},
     "source": [
      "<tt>scipy.stats</tt> contains objects that represent analytic distributions"
     ]
    },
    {
     "cell_type": "code",
     "collapsed": false,
     "input": [
      "import scipy.stats"
     ],
     "language": "python",
     "metadata": {},
     "outputs": [],
     "prompt_number": 11
    },
    {
     "cell_type": "markdown",
     "metadata": {},
     "source": [
      "For example <tt>scipy.stats.norm</tt> represents a normal distribution."
     ]
    },
    {
     "cell_type": "code",
     "collapsed": false,
     "input": [
      "mu = 178\n",
      "sigma = 7.7\n",
      "dist = scipy.stats.norm(loc=mu, scale=sigma)\n",
      "type(dist)"
     ],
     "language": "python",
     "metadata": {},
     "outputs": [
      {
       "metadata": {},
       "output_type": "pyout",
       "prompt_number": 12,
       "text": [
        "scipy.stats._distn_infrastructure.rv_frozen"
       ]
      }
     ],
     "prompt_number": 12
    },
    {
     "cell_type": "markdown",
     "metadata": {},
     "source": [
      "A \"frozen random variable\" can compute its mean and standard deviation."
     ]
    },
    {
     "cell_type": "code",
     "collapsed": false,
     "input": [
      "dist.mean(), dist.std()"
     ],
     "language": "python",
     "metadata": {},
     "outputs": [
      {
       "metadata": {},
       "output_type": "pyout",
       "prompt_number": 13,
       "text": [
        "(178.0, 7.7000000000000002)"
       ]
      }
     ],
     "prompt_number": 13
    },
    {
     "cell_type": "markdown",
     "metadata": {},
     "source": [
      "It can also evaluate its CDF.  How many people are more than one standard deviation below the mean?  About 16%"
     ]
    },
    {
     "cell_type": "code",
     "collapsed": false,
     "input": [
      "dist.cdf(mu-sigma)"
     ],
     "language": "python",
     "metadata": {},
     "outputs": [
      {
       "metadata": {},
       "output_type": "pyout",
       "prompt_number": 14,
       "text": [
        "0.15865525393145741"
       ]
      }
     ],
     "prompt_number": 14
    },
    {
     "cell_type": "markdown",
     "metadata": {},
     "source": [
      "How many people are between 5'10\" and 6'1\"?"
     ]
    },
    {
     "cell_type": "code",
     "collapsed": false,
     "input": [
      "short=dist.cdf(177.8) #5'10\"\n",
      "tall=dist.cdf(185.42) #6'1\"\n",
      "print(tall-short)"
     ],
     "language": "python",
     "metadata": {},
     "outputs": [
      {
       "output_type": "stream",
       "stream": "stdout",
       "text": [
        "0.342746837631\n"
       ]
      }
     ],
     "prompt_number": 15
    },
    {
     "cell_type": "markdown",
     "metadata": {},
     "source": [
      "<tt>scipy.stats.pareto</tt> represents a pareto distribution.  In Pareto world, the distribution of human heights has parameters alpha=1.7 and xmin=1 meter.  So the shortest person is 100 cm and the median is 150."
     ]
    },
    {
     "cell_type": "code",
     "collapsed": false,
     "input": [
      "alpha = 1.7\n",
      "xmin = 1\n",
      "dist = scipy.stats.pareto(b=alpha, scale=xmin)\n",
      "dist.median()"
     ],
     "language": "python",
     "metadata": {},
     "outputs": [
      {
       "metadata": {},
       "output_type": "pyout",
       "prompt_number": 16,
       "text": [
        "1.5034066538560549"
       ]
      }
     ],
     "prompt_number": 16
    },
    {
     "cell_type": "markdown",
     "metadata": {},
     "source": [
      "What is the mean height in Pareto world?"
     ]
    },
    {
     "cell_type": "code",
     "collapsed": false,
     "input": [
      "dist.mean()"
     ],
     "language": "python",
     "metadata": {},
     "outputs": [
      {
       "metadata": {},
       "output_type": "pyout",
       "prompt_number": 17,
       "text": [
        "2.4285714285714288"
       ]
      }
     ],
     "prompt_number": 17
    },
    {
     "cell_type": "markdown",
     "metadata": {},
     "source": [
      "What fraction of people are shorter than the mean?"
     ]
    },
    {
     "cell_type": "code",
     "collapsed": false,
     "input": [
      "dist.cdf(dist.mean())"
     ],
     "language": "python",
     "metadata": {},
     "outputs": [
      {
       "metadata": {},
       "output_type": "pyout",
       "prompt_number": 18,
       "text": [
        "0.77873969756528805"
       ]
      }
     ],
     "prompt_number": 18
    },
    {
     "cell_type": "markdown",
     "metadata": {},
     "source": [
      "Out of 7 billion people, how many do we expect to be taller than 1 km?  You could use <tt>dist.cdf</tt> or <tt>dist.sf</tt>."
     ]
    },
    {
     "cell_type": "code",
     "collapsed": false,
     "input": [
      "(1-dist.cdf(1000))*7e9"
     ],
     "language": "python",
     "metadata": {},
     "outputs": [
      {
       "metadata": {},
       "output_type": "pyout",
       "prompt_number": 22,
       "text": [
        "55602.976430479954"
       ]
      }
     ],
     "prompt_number": 22
    },
    {
     "cell_type": "markdown",
     "metadata": {},
     "source": [
      "How tall do we expect the tallest person to be?  Hint: find the height that yields about 1 person."
     ]
    },
    {
     "cell_type": "code",
     "collapsed": false,
     "input": [
      "(1-dist.cdf(618350))*7e9"
     ],
     "language": "python",
     "metadata": {},
     "outputs": [
      {
       "metadata": {},
       "output_type": "pyout",
       "prompt_number": 85,
       "text": [
        "0.99999941660655622"
       ]
      }
     ],
     "prompt_number": 85
    },
    {
     "cell_type": "markdown",
     "metadata": {},
     "source": [
      "Generate a sample from a Weibull distribution and plot it using a transform that makes a Weibull distribution look like a straight line."
     ]
    },
    {
     "cell_type": "code",
     "collapsed": false,
     "input": [
      "import random\n",
      "import thinkstats2\n",
      "import thinkplot\n",
      "import numpy"
     ],
     "language": "python",
     "metadata": {},
     "outputs": [],
     "prompt_number": 105
    },
    {
     "cell_type": "code",
     "collapsed": false,
     "input": [
      "rand_samp=[]\n",
      "for i in range(1000):\n",
      "    rand_samp.append(random.weibullvariate(1,1))\n",
      "cdf=thinkstats2.Cdf(rand_samp)\n",
      "thinkplot.Cdf(cdf, transform='weibull')\n",
      "thinkplot.Show(legend=False)\n"
     ],
     "language": "python",
     "metadata": {},
     "outputs": [],
     "prompt_number": 108
    },
    {
     "cell_type": "markdown",
     "metadata": {},
     "source": [
      "Make a random selection from <tt>cdf</tt>."
     ]
    },
    {
     "cell_type": "code",
     "collapsed": false,
     "input": [
      "print(cdf.Random())"
     ],
     "language": "python",
     "metadata": {},
     "outputs": [
      {
       "output_type": "stream",
       "stream": "stdout",
       "text": [
        "3.14809023091\n"
       ]
      }
     ],
     "prompt_number": 112
    },
    {
     "cell_type": "markdown",
     "metadata": {},
     "source": [
      "Draw a random sample from <tt>cdf</tt>."
     ]
    },
    {
     "cell_type": "code",
     "collapsed": false,
     "input": [
      "rand_samp=[]\n",
      "for i in range(1000):\n",
      "    rand_samp.append(cdf.Random())\n",
      "print (max(rand_samp))"
     ],
     "language": "python",
     "metadata": {},
     "outputs": [
      {
       "output_type": "stream",
       "stream": "stdout",
       "text": [
        "5.74731400731\n"
       ]
      }
     ],
     "prompt_number": 116
    },
    {
     "cell_type": "markdown",
     "metadata": {},
     "source": [
      "Draw a random sample from <tt>cdf</tt>, then compute the percentile rank for each value, and plot the distribution of the percentile ranks."
     ]
    },
    {
     "cell_type": "code",
     "collapsed": false,
     "input": [
      "rand_samp=[]\n",
      "for i in range(1000):\n",
      "    rand_samp.append(cdf.PercentileRank(cdf.Random()))\n",
      "rand_cdf=thinkstats2.Cdf(rand_samp)\n",
      "thinkplot.plot(rand_cdf)\n",
      "thinkplot.show()"
     ],
     "language": "python",
     "metadata": {},
     "outputs": [],
     "prompt_number": 119
    },
    {
     "cell_type": "markdown",
     "metadata": {},
     "source": [
      "Generate 1000 random values using <tt>random.random()</tt> and plot their PMF."
     ]
    },
    {
     "cell_type": "code",
     "collapsed": false,
     "input": [
      "values = [random.random() for _ in range(1000)]\n",
      "pmf = thinkstats2.Pmf(values)\n",
      "thinkplot.Pmf(pmf, linewidth=0.1)\n",
      "thinkplot.show()"
     ],
     "language": "python",
     "metadata": {},
     "outputs": [],
     "prompt_number": 121
    },
    {
     "cell_type": "markdown",
     "metadata": {},
     "source": [
      "Assuming that the PMF doesn't work very well, try plotting the CDF instead."
     ]
    },
    {
     "cell_type": "code",
     "collapsed": false,
     "input": [
      "cdf = thinkstats2.Cdf(values)\n",
      "thinkplot.Cdf(cdf)\n",
      "thinkplot.Show()"
     ],
     "language": "python",
     "metadata": {},
     "outputs": [],
     "prompt_number": 122
    },
    {
     "cell_type": "code",
     "collapsed": false,
     "input": [],
     "language": "python",
     "metadata": {},
     "outputs": [],
     "prompt_number": 29
    },
    {
     "cell_type": "code",
     "collapsed": false,
     "input": [],
     "language": "python",
     "metadata": {},
     "outputs": [],
     "prompt_number": 1
    },
    {
     "cell_type": "code",
     "collapsed": false,
     "input": [],
     "language": "python",
     "metadata": {},
     "outputs": []
    }
   ],
   "metadata": {}
  }
 ]
}